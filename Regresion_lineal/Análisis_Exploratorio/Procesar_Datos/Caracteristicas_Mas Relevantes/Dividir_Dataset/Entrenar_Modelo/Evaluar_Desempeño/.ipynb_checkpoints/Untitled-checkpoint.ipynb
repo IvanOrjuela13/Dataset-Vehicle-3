{
 "cells": [
  {
   "cell_type": "markdown",
   "id": "b6bfd882-6b56-4f68-9df0-aee4deb32f22",
   "metadata": {},
   "source": [
    "**Evaluar el desempeño del modelo en el conjunto de Test con métricas como precisión, recall, F1-score, etc.**"
   ]
  },
  {
   "cell_type": "code",
   "execution_count": 4,
   "id": "9428326b-ae67-4987-a7bc-def721d73fb4",
   "metadata": {},
   "outputs": [
    {
     "name": "stdout",
     "output_type": "stream",
     "text": [
      "Mean Squared Error: 3.4788039706378995\n",
      "R^2 Score: 0.8489813024899067\n",
      "Accuracy: 0.8524590163934426\n",
      "Precision: 0.8888888888888888\n",
      "Recall: 0.9411764705882353\n",
      "F1-score: 0.9142857142857143\n"
     ]
    }
   ],
   "source": [
    "import numpy as np\n",
    "import pandas as pd\n",
    "from sklearn.model_selection import train_test_split, GridSearchCV\n",
    "from sklearn.linear_model import LinearRegression\n",
    "from sklearn.metrics import mean_squared_error, r2_score, accuracy_score, precision_score, recall_score, f1_score\n",
    "from sklearn.feature_selection import SelectKBest, f_regression\n",
    "from sklearn.preprocessing import StandardScaler\n",
    "\n",
    "# Cargar los datos\n",
    "data = pd.read_csv('car data.csv')\n",
    "\n",
    "# Identificar y manejar los valores faltantes\n",
    "data_cleaned = data.dropna()\n",
    "\n",
    "# Codificar las variables categóricas\n",
    "data_encoded = pd.get_dummies(data_cleaned, columns=['Fuel_Type', 'Seller_Type', 'Transmission'])\n",
    "\n",
    "# Eliminar la columna 'Car_Name'\n",
    "data_encoded.drop('Car_Name', axis=1, inplace=True)\n",
    "\n",
    "# Escalar las características numéricas\n",
    "scaler = StandardScaler()\n",
    "numeric_features = ['Year', 'Present_Price', 'Kms_Driven', 'Owner']\n",
    "data_encoded[numeric_features] = scaler.fit_transform(data_encoded[numeric_features])\n",
    "\n",
    "# Dividir los datos en características (X) y etiquetas (y)\n",
    "X = data_encoded.drop('Selling_Price', axis=1)\n",
    "y = data_encoded['Selling_Price']\n",
    "\n",
    "# Dividir los datos en conjuntos de entrenamiento y prueba\n",
    "X_train, X_test, y_train, y_test = train_test_split(X, y, test_size=0.2, random_state=42)\n",
    "\n",
    "# Crear y entrenar el modelo de regresión lineal\n",
    "model = LinearRegression()\n",
    "model.fit(X_train, y_train)\n",
    "\n",
    "# Hacer predicciones\n",
    "y_pred = model.predict(X_test)\n",
    "\n",
    "# Evaluar el modelo con métricas de regresión\n",
    "mse = mean_squared_error(y_test, y_pred)\n",
    "r2 = r2_score(y_test, y_pred)\n",
    "\n",
    "print('Mean Squared Error:', mse)\n",
    "print('R^2 Score:', r2)\n",
    "\n",
    "# Definir un umbral para binarizar las predicciones\n",
    "threshold = 0.5\n",
    "\n",
    "# Binarizar las predicciones y las etiquetas\n",
    "y_pred_binary = (y_pred > threshold).astype(int)\n",
    "y_test_binary = (y_test > threshold).astype(int)\n",
    "\n",
    "# Calcular métricas de clasificación\n",
    "accuracy = accuracy_score(y_test_binary, y_pred_binary)\n",
    "precision = precision_score(y_test_binary, y_pred_binary)\n",
    "recall = recall_score(y_test_binary, y_pred_binary)\n",
    "f1 = f1_score(y_test_binary, y_pred_binary)\n",
    "\n",
    "# Mostrar métricas de clasificación\n",
    "print('Accuracy:', accuracy)\n",
    "print('Precision:', precision)\n",
    "print('Recall:', recall)\n",
    "print('F1-score:', f1)"
   ]
  },
  {
   "cell_type": "code",
   "execution_count": null,
   "id": "a372c8e2-bd7c-4d8a-94d2-5ad0258c0f9a",
   "metadata": {},
   "outputs": [],
   "source": []
  }
 ],
 "metadata": {
  "kernelspec": {
   "display_name": "Python 3 (ipykernel)",
   "language": "python",
   "name": "python3"
  },
  "language_info": {
   "codemirror_mode": {
    "name": "ipython",
    "version": 3
   },
   "file_extension": ".py",
   "mimetype": "text/x-python",
   "name": "python",
   "nbconvert_exporter": "python",
   "pygments_lexer": "ipython3",
   "version": "3.11.7"
  }
 },
 "nbformat": 4,
 "nbformat_minor": 5
}
